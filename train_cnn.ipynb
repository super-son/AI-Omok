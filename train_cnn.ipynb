{
 "cells": [
  {
   "cell_type": "code",
   "execution_count": 7,
   "metadata": {},
   "outputs": [],
   "source": [
    "import tensorflow as tf\n",
    "import tensorflow.keras as keras\n",
    "from tensorflow.keras import layers, models\n",
    "import numpy as np\n",
    "from sklearn.model_selection import train_test_split\n",
    "from glob import glob\n",
    "import os\n",
    "from tqdm import tqdm\n",
    "from datetime import datetime\n",
    "from tensorflow.keras.callbacks import ModelCheckpoint, ReduceLROnPlateau"
   ]
  },
  {
   "cell_type": "code",
   "execution_count": 2,
   "metadata": {},
   "outputs": [
    {
     "name": "stderr",
     "output_type": "stream",
     "text": [
      "100%|██████████| 10224/10224 [00:11<00:00, 884.09it/s]\n"
     ]
    },
    {
     "name": "stdout",
     "output_type": "stream",
     "text": [
      "(4515129, 20, 20, 1) (4515129, 400)\n",
      "(1128783, 20, 20, 1) (1128783, 400)\n"
     ]
    }
   ],
   "source": [
    "w, h = 20, 20\n",
    "base_path = os.path.join('dataset', '*/*.npz')\n",
    "\n",
    "file_list = glob(base_path)\n",
    "\n",
    "x_data, y_data = [], []\n",
    "for file_path in tqdm(file_list):\n",
    "    data = np.load(file_path)\n",
    "    x_data.extend(data['inputs'])\n",
    "    y_data.extend(data['outputs'])\n",
    "\n",
    "x_data = np.array(x_data, np.float32).reshape((-1, h, w, 1))\n",
    "y_data = np.array(y_data, np.float32).reshape((-1, h * w))\n",
    "\n",
    "x_train, x_val, y_train, y_val = train_test_split(x_data, y_data, test_size=0.2, random_state=2020)\n",
    "\n",
    "del x_data, y_data\n",
    "\n",
    "print(x_train.shape, y_train.shape)\n",
    "print(x_val.shape, y_val.shape)"
   ]
  },
  {
   "cell_type": "code",
   "execution_count": 3,
   "metadata": {},
   "outputs": [
    {
     "name": "stdout",
     "output_type": "stream",
     "text": [
      "Model: \"sequential\"\n",
      "_________________________________________________________________\n",
      "Layer (type)                 Output Shape              Param #   \n",
      "=================================================================\n",
      "conv2d (Conv2D)              (None, 20, 20, 64)        3200      \n",
      "_________________________________________________________________\n",
      "conv2d_1 (Conv2D)            (None, 20, 20, 128)       401536    \n",
      "_________________________________________________________________\n",
      "conv2d_2 (Conv2D)            (None, 20, 20, 256)       1605888   \n",
      "_________________________________________________________________\n",
      "conv2d_3 (Conv2D)            (None, 20, 20, 128)       1605760   \n",
      "_________________________________________________________________\n",
      "conv2d_4 (Conv2D)            (None, 20, 20, 64)        401472    \n",
      "_________________________________________________________________\n",
      "conv2d_5 (Conv2D)            (None, 20, 20, 1)         65        \n",
      "_________________________________________________________________\n",
      "reshape (Reshape)            (None, 400)               0         \n",
      "_________________________________________________________________\n",
      "activation (Activation)      (None, 400)               0         \n",
      "=================================================================\n",
      "Total params: 4,017,921\n",
      "Trainable params: 4,017,921\n",
      "Non-trainable params: 0\n",
      "_________________________________________________________________\n"
     ]
    }
   ],
   "source": [
    "model = models.Sequential([\n",
    "    layers.Conv2D(64, 7, activation='relu', padding='same', input_shape=(h, w, 1)),\n",
    "    layers.Conv2D(128, 7, activation='relu', padding='same'),\n",
    "    layers.Conv2D(256, 7, activation='relu', padding='same'),\n",
    "    layers.Conv2D(128, 7, activation='relu', padding='same'),\n",
    "    layers.Conv2D(64, 7, activation='relu', padding='same'),\n",
    "    layers.Conv2D(1, 1, activation=None, padding='same'),\n",
    "    layers.Reshape((h * w,)),\n",
    "    layers.Activation('sigmoid')\n",
    "])\n",
    "\n",
    "model.compile(\n",
    "    optimizer='adam',\n",
    "    loss='binary_crossentropy',\n",
    "    metrics=['acc']\n",
    ")\n",
    "\n",
    "model.summary()"
   ]
  },
  {
   "cell_type": "markdown",
   "metadata": {},
   "source": [
    "- kernel 7,5,3,3,3: 53.3\n",
    "- kernel all 7: 56.12\n",
    "- kernel all 7, double kernel:"
   ]
  },
  {
   "cell_type": "code",
   "execution_count": null,
   "metadata": {},
   "outputs": [
    {
     "name": "stdout",
     "output_type": "stream",
     "text": [
      "Epoch 1/10\n",
      "    2/17638 [..............................] - ETA: 9:00 - loss: 0.0050 - acc: 0.6035WARNING:tensorflow:Callbacks method `on_train_batch_end` is slow compared to the batch time (batch time: 0.0226s vs `on_train_batch_end` time: 0.0386s). Check your callbacks.\n",
      "17637/17638 [============================>.] - ETA: 0s - loss: 0.0049 - acc: 0.6081\n",
      "Epoch 00001: val_acc improved from -inf to 0.58375, saving model to ./models/20201213_202430.h5\n",
      "17638/17638 [==============================] - 1091s 62ms/step - loss: 0.0049 - acc: 0.6081 - val_loss: 0.0052 - val_acc: 0.5837\n",
      "Epoch 2/10\n",
      "17637/17638 [============================>.] - ETA: 0s - loss: 0.0048 - acc: 0.6206\n",
      "Epoch 00002: val_acc improved from 0.58375 to 0.58817, saving model to ./models/20201213_202430.h5\n",
      "17638/17638 [==============================] - 1095s 62ms/step - loss: 0.0048 - acc: 0.6206 - val_loss: 0.0052 - val_acc: 0.5882\n",
      "Epoch 3/10\n",
      "17637/17638 [============================>.] - ETA: 0s - loss: 0.0046 - acc: 0.6330\n",
      "Epoch 00003: val_acc improved from 0.58817 to 0.59378, saving model to ./models/20201213_202430.h5\n",
      "17638/17638 [==============================] - 1096s 62ms/step - loss: 0.0046 - acc: 0.6330 - val_loss: 0.0052 - val_acc: 0.5938\n",
      "Epoch 4/10\n",
      "17637/17638 [============================>.] - ETA: 0s - loss: 0.0045 - acc: 0.6449\n",
      "Epoch 00004: val_acc improved from 0.59378 to 0.59846, saving model to ./models/20201213_202430.h5\n",
      "17638/17638 [==============================] - 1097s 62ms/step - loss: 0.0045 - acc: 0.6449 - val_loss: 0.0051 - val_acc: 0.5985\n",
      "Epoch 5/10\n",
      "17637/17638 [============================>.] - ETA: 0s - loss: 0.0044 - acc: 0.6565\n",
      "Epoch 00005: val_acc improved from 0.59846 to 0.60367, saving model to ./models/20201213_202430.h5\n",
      "17638/17638 [==============================] - 1097s 62ms/step - loss: 0.0044 - acc: 0.6565 - val_loss: 0.0051 - val_acc: 0.6037\n",
      "Epoch 6/10\n",
      "17637/17638 [============================>.] - ETA: 0s - loss: 0.0043 - acc: 0.6672\n",
      "Epoch 00006: val_acc improved from 0.60367 to 0.60586, saving model to ./models/20201213_202430.h5\n",
      "17638/17638 [==============================] - 1096s 62ms/step - loss: 0.0043 - acc: 0.6672 - val_loss: 0.0051 - val_acc: 0.6059\n",
      "Epoch 7/10\n",
      "17637/17638 [============================>.] - ETA: 0s - loss: 0.0042 - acc: 0.6775\n",
      "Epoch 00007: val_acc improved from 0.60586 to 0.60938, saving model to ./models/20201213_202430.h5\n",
      "17638/17638 [==============================] - 1095s 62ms/step - loss: 0.0042 - acc: 0.6775 - val_loss: 0.0051 - val_acc: 0.6094\n",
      "Epoch 8/10\n",
      " 4983/17638 [=======>......................] - ETA: 12:07 - loss: 0.0040 - acc: 0.6957"
     ]
    }
   ],
   "source": [
    "start_time = datetime.now().strftime('%Y%m%d_%H%M%S')\n",
    "os.makedirs('models', exist_ok=True)\n",
    "\n",
    "model.fit(\n",
    "    x=x_train,\n",
    "    y=y_train,\n",
    "    batch_size=256,\n",
    "    epochs=10,\n",
    "    callbacks=[\n",
    "        ModelCheckpoint('./models/%s.h5' % (start_time), monitor='val_acc', verbose=1, save_best_only=True, mode='auto'),\n",
    "        ReduceLROnPlateau(monitor='val_acc', factor=0.2, patience=5, verbose=1, mode='auto')\n",
    "    ],\n",
    "    validation_data=(x_val, y_val),\n",
    "    use_multiprocessing=True,\n",
    "    workers=16\n",
    ")"
   ]
  },
  {
   "cell_type": "code",
   "execution_count": 38,
   "metadata": {},
   "outputs": [
    {
     "name": "stdout",
     "output_type": "stream",
     "text": [
      " 0 0 0 0 0 0 0 0 0 0 0 0 0 0 0 0 0 0 0 0\n",
      " 0 0 0 0 0 0 0 0 0 0 0 0 0 0 0 0 0 0 0 0\n",
      " 0 0 0 0 0 0 0 0 0 0 0 0 0 0 0 0 0 0 0 0\n",
      " 0 0 0 0 0 0 0 0 0 0 0 0 0 0 0 0 0 0 0 0\n",
      " 0 0 0 0 0 0 0 0 0 0 0 0 0 0 0 0 0 0 0 0\n",
      " 0 0 0 0 0 0 0 0 0 0 0 0 0 0 0 0 0 0 0 0\n",
      " 0 0 0 0 0 0 0 0 0 0 0 0 0 0 0 0 0 0 0 0\n",
      " 0 0 0 0 0 0 0 0 0 0 0 0 0 0 0 0 0 0 0 0\n",
      " 0 0 0 0 0 0 0 0 0 0 0 0 0 0 0 0 0 0 0 0\n",
      " 0 0 0 0 0-1 0 0 0 0 0 0 0 0 0 0 0 0 0 0\n",
      " 0 0 0 0 0 0 0 0 0 0 0 0 0 0 0 0 0 0 0 0\n",
      " 0 0 0 0 0 0 0 0 0 0 0 0 0 0 0 0 0 0 0 0\n",
      " 0 0 1 0 0 0 0 0 0 0 0 0 0 0 0 0 0 0 0 0\n",
      " 0 0 0-1 0 0 0 0 0 0 0 0 0 0 0 0 0 0 0 0\n",
      " 0 0 0 0 0 0 0 0 0 0 0 0 0 0 0 0 0 0 0 0\n",
      " 0 0 0 0 0 0 1 0 0 0 0 0 0 0 0 0 0 0 0 0\n",
      " 0 0 0 0 0 0 0 0 0 0 0 0 0 0 0 0 0 0 0 0\n",
      " 0 0 0 0 0 0 0 0 0 0 0 0 0 0 0 0 0 0 0 0\n",
      " 0 0 0 0 0 0 0 0 0 0 0 0 0 0 0 0 0 0 0 0\n",
      " 0 0 0 0 0 0 0 0 0 0 0 0 0 0 0 0 0 0 0 0\n"
     ]
    }
   ],
   "source": [
    "i = 0\n",
    "\n",
    "for y in range(h):\n",
    "    for x in range(w):\n",
    "        print('%2d' % x_val[i][y, x], end='')\n",
    "    print()"
   ]
  },
  {
   "cell_type": "code",
   "execution_count": 39,
   "metadata": {},
   "outputs": [
    {
     "name": "stdout",
     "output_type": "stream",
     "text": [
      "6 9 0.99919564\n"
     ]
    }
   ],
   "source": [
    "y_pred = model.predict(np.expand_dims(x_val[i], axis=0)).squeeze()\n",
    "y_pred = y_pred.reshape((h, w))\n",
    "\n",
    "y, x = np.unravel_index(np.argmax(y_pred), y_pred.shape)\n",
    "\n",
    "print(x, y, y_pred[y, x])"
   ]
  },
  {
   "cell_type": "code",
   "execution_count": null,
   "metadata": {},
   "outputs": [],
   "source": []
  },
  {
   "cell_type": "code",
   "execution_count": null,
   "metadata": {},
   "outputs": [],
   "source": []
  },
  {
   "cell_type": "code",
   "execution_count": null,
   "metadata": {},
   "outputs": [],
   "source": []
  },
  {
   "cell_type": "code",
   "execution_count": null,
   "metadata": {},
   "outputs": [],
   "source": []
  }
 ],
 "metadata": {
  "kernelspec": {
   "display_name": "Python 3",
   "language": "python",
   "name": "python3"
  },
  "language_info": {
   "codemirror_mode": {
    "name": "ipython",
    "version": 3
   },
   "file_extension": ".py",
   "mimetype": "text/x-python",
   "name": "python",
   "nbconvert_exporter": "python",
   "pygments_lexer": "ipython3",
   "version": "3.6.9"
  }
 },
 "nbformat": 4,
 "nbformat_minor": 4
}
